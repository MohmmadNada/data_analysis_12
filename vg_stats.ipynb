{
 "cells": [
  {
   "cell_type": "code",
   "execution_count": 1,
   "id": "1cbea7d3-d581-4c23-9e72-606c0d3fba37",
   "metadata": {},
   "outputs": [],
   "source": [
    "# Add a markdown cell at the top of each notebook with the title of this assignment, an appropriate name for the data set, as well as your name and the date"
   ]
  },
  {
   "cell_type": "markdown",
   "id": "692f6f32-3b55-483f-b046-35845805a717",
   "metadata": {},
   "source": [
    "# Data Analysis with Pandas , Part one Video Game , Mohammad Nada , 21/jun/2021"
   ]
  },
  {
   "cell_type": "markdown",
   "id": "7f014829-b957-4ac3-acb4-0c6d98085a44",
   "metadata": {},
   "source": [
    "#### Which company is the most common video game publisher?"
   ]
  },
  {
   "cell_type": "code",
   "execution_count": 2,
   "id": "d2b7ee68-8523-4817-97b7-39b3b9c4ca54",
   "metadata": {},
   "outputs": [],
   "source": [
    "import pandas as pd\n",
    "import numpy as np"
   ]
  },
  {
   "cell_type": "markdown",
   "id": "53a0fe9d-427a-4b86-b896-6895f8d5df7a",
   "metadata": {},
   "source": [
    "#### Read CSV file using Pandas, output is a data frame¶"
   ]
  },
  {
   "cell_type": "code",
   "execution_count": 3,
   "id": "91ad42b0-0f27-4a4e-878c-42b65226c60a",
   "metadata": {},
   "outputs": [],
   "source": [
    "df = pd.read_csv('./vgsales.csv')"
   ]
  },
  {
   "cell_type": "code",
   "execution_count": 4,
   "id": "d6e33364-425f-48bf-aa85-b29eefa09f83",
   "metadata": {},
   "outputs": [
    {
     "output_type": "execute_result",
     "data": {
      "text/plain": [
       "        Rank                                              Name Platform  \\\n",
       "0          1                                        Wii Sports      Wii   \n",
       "1          2                                 Super Mario Bros.      NES   \n",
       "2          3                                    Mario Kart Wii      Wii   \n",
       "3          4                                 Wii Sports Resort      Wii   \n",
       "4          5                          Pokemon Red/Pokemon Blue       GB   \n",
       "...      ...                                               ...      ...   \n",
       "16593  16596                Woody Woodpecker in Crazy Castle 5      GBA   \n",
       "16594  16597                     Men in Black II: Alien Escape       GC   \n",
       "16595  16598  SCORE International Baja 1000: The Official Game      PS2   \n",
       "16596  16599                                        Know How 2       DS   \n",
       "16597  16600                                  Spirits & Spells      GBA   \n",
       "\n",
       "         Year         Genre   Publisher  NA_Sales  EU_Sales  JP_Sales  \\\n",
       "0      2006.0        Sports    Nintendo     41.49     29.02      3.77   \n",
       "1      1985.0      Platform    Nintendo     29.08      3.58      6.81   \n",
       "2      2008.0        Racing    Nintendo     15.85     12.88      3.79   \n",
       "3      2009.0        Sports    Nintendo     15.75     11.01      3.28   \n",
       "4      1996.0  Role-Playing    Nintendo     11.27      8.89     10.22   \n",
       "...       ...           ...         ...       ...       ...       ...   \n",
       "16593  2002.0      Platform       Kemco      0.01      0.00      0.00   \n",
       "16594  2003.0       Shooter  Infogrames      0.01      0.00      0.00   \n",
       "16595  2008.0        Racing  Activision      0.00      0.00      0.00   \n",
       "16596  2010.0        Puzzle    7G//AMES      0.00      0.01      0.00   \n",
       "16597  2003.0      Platform     Wanadoo      0.01      0.00      0.00   \n",
       "\n",
       "       Other_Sales  Global_Sales  \n",
       "0             8.46         82.74  \n",
       "1             0.77         40.24  \n",
       "2             3.31         35.82  \n",
       "3             2.96         33.00  \n",
       "4             1.00         31.37  \n",
       "...            ...           ...  \n",
       "16593         0.00          0.01  \n",
       "16594         0.00          0.01  \n",
       "16595         0.00          0.01  \n",
       "16596         0.00          0.01  \n",
       "16597         0.00          0.01  \n",
       "\n",
       "[16598 rows x 11 columns]"
      ],
      "text/html": "<div>\n<style scoped>\n    .dataframe tbody tr th:only-of-type {\n        vertical-align: middle;\n    }\n\n    .dataframe tbody tr th {\n        vertical-align: top;\n    }\n\n    .dataframe thead th {\n        text-align: right;\n    }\n</style>\n<table border=\"1\" class=\"dataframe\">\n  <thead>\n    <tr style=\"text-align: right;\">\n      <th></th>\n      <th>Rank</th>\n      <th>Name</th>\n      <th>Platform</th>\n      <th>Year</th>\n      <th>Genre</th>\n      <th>Publisher</th>\n      <th>NA_Sales</th>\n      <th>EU_Sales</th>\n      <th>JP_Sales</th>\n      <th>Other_Sales</th>\n      <th>Global_Sales</th>\n    </tr>\n  </thead>\n  <tbody>\n    <tr>\n      <th>0</th>\n      <td>1</td>\n      <td>Wii Sports</td>\n      <td>Wii</td>\n      <td>2006.0</td>\n      <td>Sports</td>\n      <td>Nintendo</td>\n      <td>41.49</td>\n      <td>29.02</td>\n      <td>3.77</td>\n      <td>8.46</td>\n      <td>82.74</td>\n    </tr>\n    <tr>\n      <th>1</th>\n      <td>2</td>\n      <td>Super Mario Bros.</td>\n      <td>NES</td>\n      <td>1985.0</td>\n      <td>Platform</td>\n      <td>Nintendo</td>\n      <td>29.08</td>\n      <td>3.58</td>\n      <td>6.81</td>\n      <td>0.77</td>\n      <td>40.24</td>\n    </tr>\n    <tr>\n      <th>2</th>\n      <td>3</td>\n      <td>Mario Kart Wii</td>\n      <td>Wii</td>\n      <td>2008.0</td>\n      <td>Racing</td>\n      <td>Nintendo</td>\n      <td>15.85</td>\n      <td>12.88</td>\n      <td>3.79</td>\n      <td>3.31</td>\n      <td>35.82</td>\n    </tr>\n    <tr>\n      <th>3</th>\n      <td>4</td>\n      <td>Wii Sports Resort</td>\n      <td>Wii</td>\n      <td>2009.0</td>\n      <td>Sports</td>\n      <td>Nintendo</td>\n      <td>15.75</td>\n      <td>11.01</td>\n      <td>3.28</td>\n      <td>2.96</td>\n      <td>33.00</td>\n    </tr>\n    <tr>\n      <th>4</th>\n      <td>5</td>\n      <td>Pokemon Red/Pokemon Blue</td>\n      <td>GB</td>\n      <td>1996.0</td>\n      <td>Role-Playing</td>\n      <td>Nintendo</td>\n      <td>11.27</td>\n      <td>8.89</td>\n      <td>10.22</td>\n      <td>1.00</td>\n      <td>31.37</td>\n    </tr>\n    <tr>\n      <th>...</th>\n      <td>...</td>\n      <td>...</td>\n      <td>...</td>\n      <td>...</td>\n      <td>...</td>\n      <td>...</td>\n      <td>...</td>\n      <td>...</td>\n      <td>...</td>\n      <td>...</td>\n      <td>...</td>\n    </tr>\n    <tr>\n      <th>16593</th>\n      <td>16596</td>\n      <td>Woody Woodpecker in Crazy Castle 5</td>\n      <td>GBA</td>\n      <td>2002.0</td>\n      <td>Platform</td>\n      <td>Kemco</td>\n      <td>0.01</td>\n      <td>0.00</td>\n      <td>0.00</td>\n      <td>0.00</td>\n      <td>0.01</td>\n    </tr>\n    <tr>\n      <th>16594</th>\n      <td>16597</td>\n      <td>Men in Black II: Alien Escape</td>\n      <td>GC</td>\n      <td>2003.0</td>\n      <td>Shooter</td>\n      <td>Infogrames</td>\n      <td>0.01</td>\n      <td>0.00</td>\n      <td>0.00</td>\n      <td>0.00</td>\n      <td>0.01</td>\n    </tr>\n    <tr>\n      <th>16595</th>\n      <td>16598</td>\n      <td>SCORE International Baja 1000: The Official Game</td>\n      <td>PS2</td>\n      <td>2008.0</td>\n      <td>Racing</td>\n      <td>Activision</td>\n      <td>0.00</td>\n      <td>0.00</td>\n      <td>0.00</td>\n      <td>0.00</td>\n      <td>0.01</td>\n    </tr>\n    <tr>\n      <th>16596</th>\n      <td>16599</td>\n      <td>Know How 2</td>\n      <td>DS</td>\n      <td>2010.0</td>\n      <td>Puzzle</td>\n      <td>7G//AMES</td>\n      <td>0.00</td>\n      <td>0.01</td>\n      <td>0.00</td>\n      <td>0.00</td>\n      <td>0.01</td>\n    </tr>\n    <tr>\n      <th>16597</th>\n      <td>16600</td>\n      <td>Spirits &amp; Spells</td>\n      <td>GBA</td>\n      <td>2003.0</td>\n      <td>Platform</td>\n      <td>Wanadoo</td>\n      <td>0.01</td>\n      <td>0.00</td>\n      <td>0.00</td>\n      <td>0.00</td>\n      <td>0.01</td>\n    </tr>\n  </tbody>\n</table>\n<p>16598 rows × 11 columns</p>\n</div>"
     },
     "metadata": {},
     "execution_count": 4
    }
   ],
   "source": [
    "df # show all data "
   ]
  },
  {
   "cell_type": "code",
   "execution_count": 5,
   "id": "531270a1-86bf-4979-a28e-d9d6a8d85b50",
   "metadata": {},
   "outputs": [],
   "source": [
    "# df.head(20) # show the first 20 elements \n",
    "# df.iloc[20]"
   ]
  },
  {
   "cell_type": "markdown",
   "id": "fab3f7a0-00cc-4f64-80ef-d1b264c69931",
   "metadata": {},
   "source": [
    "#### Q1:Which company is the most common video game publisher?"
   ]
  },
  {
   "cell_type": "code",
   "execution_count": 6,
   "id": "4ca4a374-4614-44c2-9805-4865fd9a30ec",
   "metadata": {},
   "outputs": [],
   "source": [
    "most_publisher=df['Publisher']"
   ]
  },
  {
   "cell_type": "code",
   "execution_count": 7,
   "id": "cceaafb4-c453-402d-910f-5cad3758bc32",
   "metadata": {},
   "outputs": [],
   "source": [
    "# most_publisher.describe()"
   ]
  },
  {
   "cell_type": "code",
   "execution_count": 8,
   "id": "942b73e9-5209-4e1a-b435-2d574c745816",
   "metadata": {},
   "outputs": [
    {
     "output_type": "execute_result",
     "data": {
      "text/plain": [
       "'Electronic Arts'"
      ]
     },
     "metadata": {},
     "execution_count": 8
    }
   ],
   "source": [
    "most_publisher.describe().top"
   ]
  },
  {
   "cell_type": "markdown",
   "id": "9d0db5f7-145b-4f31-aacf-54acb5482aea",
   "metadata": {},
   "source": [
    "#### Q2/What’s the most common platform?"
   ]
  },
  {
   "cell_type": "code",
   "execution_count": 9,
   "id": "33a93c47-1824-4f63-b887-d52f210885fd",
   "metadata": {},
   "outputs": [
    {
     "output_type": "execute_result",
     "data": {
      "text/plain": [
       "'DS'"
      ]
     },
     "metadata": {},
     "execution_count": 9
    }
   ],
   "source": [
    "df['Platform'].describe().top"
   ]
  },
  {
   "cell_type": "markdown",
   "id": "28723e48-22fe-4b39-9073-0c7a4a295bb5",
   "metadata": {},
   "source": [
    "#### Q3/What about the most common genre?"
   ]
  },
  {
   "cell_type": "code",
   "execution_count": 10,
   "id": "541217f8-c728-4aa9-add2-0a36596299e7",
   "metadata": {},
   "outputs": [
    {
     "output_type": "execute_result",
     "data": {
      "text/plain": [
       "'Action'"
      ]
     },
     "metadata": {},
     "execution_count": 10
    }
   ],
   "source": [
    "df['Genre'].describe().top"
   ]
  },
  {
   "cell_type": "markdown",
   "id": "4f2ee3ab-fb6e-4c73-b2b8-f78a0c1d48c5",
   "metadata": {},
   "source": [
    "#### Q4/What are the top 20 highest grossing games?"
   ]
  },
  {
   "cell_type": "code",
   "execution_count": 11,
   "id": "c08a0ca6-9211-4632-bb20-0a6dd6f70bde",
   "metadata": {},
   "outputs": [],
   "source": [
    "top_20_grossing=df.head(20).groupby(['Rank','Name','Global_Sales'])\n",
    "# top_20_grossing=df.head(20).groupby(['Global_Sales','Name'])\n",
    "# top_20_grossing.describe()"
   ]
  },
  {
   "cell_type": "code",
   "execution_count": 12,
   "id": "61395f0f-f502-4f70-9f13-ac573efe2842",
   "metadata": {
    "tags": []
   },
   "outputs": [
    {
     "output_type": "execute_result",
     "data": {
      "text/plain": [
       "                                                                Rank\n",
       "Rank Name                                         Global_Sales      \n",
       "1    Wii Sports                                   82.74            1\n",
       "2    Super Mario Bros.                            40.24            2\n",
       "3    Mario Kart Wii                               35.82            3\n",
       "4    Wii Sports Resort                            33.00            4\n",
       "5    Pokemon Red/Pokemon Blue                     31.37            5\n",
       "6    Tetris                                       30.26            6\n",
       "7    New Super Mario Bros.                        30.01            7\n",
       "8    Wii Play                                     29.02            8\n",
       "9    New Super Mario Bros. Wii                    28.62            9\n",
       "10   Duck Hunt                                    28.31           10\n",
       "11   Nintendogs                                   24.76           11\n",
       "12   Mario Kart DS                                23.42           12\n",
       "13   Pokemon Gold/Pokemon Silver                  23.10           13\n",
       "14   Wii Fit                                      22.72           14\n",
       "15   Wii Fit Plus                                 22.00           15\n",
       "16   Kinect Adventures!                           21.82           16\n",
       "17   Grand Theft Auto V                           21.40           17\n",
       "18   Grand Theft Auto: San Andreas                20.81           18\n",
       "19   Super Mario World                            20.61           19\n",
       "20   Brain Age: Train Your Brain in Minutes a Day 20.22           20"
      ],
      "text/html": "<div>\n<style scoped>\n    .dataframe tbody tr th:only-of-type {\n        vertical-align: middle;\n    }\n\n    .dataframe tbody tr th {\n        vertical-align: top;\n    }\n\n    .dataframe thead th {\n        text-align: right;\n    }\n</style>\n<table border=\"1\" class=\"dataframe\">\n  <thead>\n    <tr style=\"text-align: right;\">\n      <th></th>\n      <th></th>\n      <th></th>\n      <th>Rank</th>\n    </tr>\n    <tr>\n      <th>Rank</th>\n      <th>Name</th>\n      <th>Global_Sales</th>\n      <th></th>\n    </tr>\n  </thead>\n  <tbody>\n    <tr>\n      <th>1</th>\n      <th>Wii Sports</th>\n      <th>82.74</th>\n      <td>1</td>\n    </tr>\n    <tr>\n      <th>2</th>\n      <th>Super Mario Bros.</th>\n      <th>40.24</th>\n      <td>2</td>\n    </tr>\n    <tr>\n      <th>3</th>\n      <th>Mario Kart Wii</th>\n      <th>35.82</th>\n      <td>3</td>\n    </tr>\n    <tr>\n      <th>4</th>\n      <th>Wii Sports Resort</th>\n      <th>33.00</th>\n      <td>4</td>\n    </tr>\n    <tr>\n      <th>5</th>\n      <th>Pokemon Red/Pokemon Blue</th>\n      <th>31.37</th>\n      <td>5</td>\n    </tr>\n    <tr>\n      <th>6</th>\n      <th>Tetris</th>\n      <th>30.26</th>\n      <td>6</td>\n    </tr>\n    <tr>\n      <th>7</th>\n      <th>New Super Mario Bros.</th>\n      <th>30.01</th>\n      <td>7</td>\n    </tr>\n    <tr>\n      <th>8</th>\n      <th>Wii Play</th>\n      <th>29.02</th>\n      <td>8</td>\n    </tr>\n    <tr>\n      <th>9</th>\n      <th>New Super Mario Bros. Wii</th>\n      <th>28.62</th>\n      <td>9</td>\n    </tr>\n    <tr>\n      <th>10</th>\n      <th>Duck Hunt</th>\n      <th>28.31</th>\n      <td>10</td>\n    </tr>\n    <tr>\n      <th>11</th>\n      <th>Nintendogs</th>\n      <th>24.76</th>\n      <td>11</td>\n    </tr>\n    <tr>\n      <th>12</th>\n      <th>Mario Kart DS</th>\n      <th>23.42</th>\n      <td>12</td>\n    </tr>\n    <tr>\n      <th>13</th>\n      <th>Pokemon Gold/Pokemon Silver</th>\n      <th>23.10</th>\n      <td>13</td>\n    </tr>\n    <tr>\n      <th>14</th>\n      <th>Wii Fit</th>\n      <th>22.72</th>\n      <td>14</td>\n    </tr>\n    <tr>\n      <th>15</th>\n      <th>Wii Fit Plus</th>\n      <th>22.00</th>\n      <td>15</td>\n    </tr>\n    <tr>\n      <th>16</th>\n      <th>Kinect Adventures!</th>\n      <th>21.82</th>\n      <td>16</td>\n    </tr>\n    <tr>\n      <th>17</th>\n      <th>Grand Theft Auto V</th>\n      <th>21.40</th>\n      <td>17</td>\n    </tr>\n    <tr>\n      <th>18</th>\n      <th>Grand Theft Auto: San Andreas</th>\n      <th>20.81</th>\n      <td>18</td>\n    </tr>\n    <tr>\n      <th>19</th>\n      <th>Super Mario World</th>\n      <th>20.61</th>\n      <td>19</td>\n    </tr>\n    <tr>\n      <th>20</th>\n      <th>Brain Age: Train Your Brain in Minutes a Day</th>\n      <th>20.22</th>\n      <td>20</td>\n    </tr>\n  </tbody>\n</table>\n</div>"
     },
     "metadata": {},
     "execution_count": 12
    }
   ],
   "source": [
    "top_20_grossing.agg({'Rank':'max'})"
   ]
  },
  {
   "cell_type": "markdown",
   "id": "22035850-997f-4d08-aefa-45b5481ba9f0",
   "metadata": {
    "tags": []
   },
   "source": [
    "#### Q5/ For North American video game sales, what’s the median?"
   ]
  },
  {
   "cell_type": "code",
   "execution_count": 13,
   "id": "4ef1848c-40b8-40ec-ae61-d8948d7e3ca0",
   "metadata": {},
   "outputs": [
    {
     "output_type": "execute_result",
     "data": {
      "text/plain": [
       "0        41.49\n",
       "1        29.08\n",
       "2        15.85\n",
       "3        15.75\n",
       "4        11.27\n",
       "         ...  \n",
       "16593     0.01\n",
       "16594     0.01\n",
       "16595     0.00\n",
       "16596     0.00\n",
       "16597     0.01\n",
       "Name: NA_Sales, Length: 16598, dtype: float64"
      ]
     },
     "metadata": {},
     "execution_count": 13
    }
   ],
   "source": [
    "median_NourthAmerica=df['NA_Sales'].median()\n",
    "# median_NourthAmerica=df['NA_Sales'].describe()\n",
    "tableNA_Sales=df['NA_Sales']\n",
    "tableNA_Sales"
   ]
  },
  {
   "cell_type": "code",
   "execution_count": 14,
   "id": "b99ffd90-2f08-4db9-b036-41b0007a7dac",
   "metadata": {},
   "outputs": [
    {
     "output_type": "execute_result",
     "data": {
      "text/plain": [
       "0.08"
      ]
     },
     "metadata": {},
     "execution_count": 14
    }
   ],
   "source": [
    "median_NourthAmerica"
   ]
  },
  {
   "cell_type": "code",
   "execution_count": 15,
   "id": "36f36f00-e4c1-4a62-9532-249eeaa5ff16",
   "metadata": {},
   "outputs": [
    {
     "output_type": "execute_result",
     "data": {
      "text/plain": [
       "        Rank                                               Name Platform  \\\n",
       "446      447                                  Dragon Warrior IV      NES   \n",
       "497      498        World Soccer Winning Eleven 7 International      PS2   \n",
       "1617    1619                             Farming Simulator 2015       PC   \n",
       "1926    1928                          Pro Evolution Soccer 2008     X360   \n",
       "2067    2069  Winning Eleven: Pro Evolution Soccer 2007 (All...     X360   \n",
       "...      ...                                                ...      ...   \n",
       "11403  11405            My English Coach: Para Hispanoparlantes       DS   \n",
       "11431  11433   Little League World Series Baseball: Double Play       DS   \n",
       "11432  11434                               DanceDanceRevolution     X360   \n",
       "11455  11457                                         The Hidden      3DS   \n",
       "11492  11494                       Ultimate Shooting Collection      Wii   \n",
       "\n",
       "         Year         Genre                     Publisher  NA_Sales  EU_Sales  \\\n",
       "446    1990.0  Role-Playing              Enix Corporation      0.08      0.00   \n",
       "497    2003.0        Sports  Konami Digital Entertainment      0.08      1.24   \n",
       "1617   2014.0    Simulation        Focus Home Interactive      0.08      1.02   \n",
       "1926   2007.0        Sports  Konami Digital Entertainment      0.08      0.90   \n",
       "2067   2006.0        Sports  Konami Digital Entertainment      0.08      0.90   \n",
       "...       ...           ...                           ...       ...       ...   \n",
       "11403  2009.0          Misc                       Ubisoft      0.08      0.00   \n",
       "11431  2010.0        Sports                    Activision      0.08      0.00   \n",
       "11432  2011.0    Simulation  Konami Digital Entertainment      0.08      0.00   \n",
       "11455     NaN     Adventure                       Unknown      0.08      0.00   \n",
       "11492  2008.0       Shooter                     Milestone      0.08      0.00   \n",
       "\n",
       "       JP_Sales  Other_Sales  Global_Sales  \n",
       "446        3.03         0.01          3.12  \n",
       "497        1.13         0.45          2.90  \n",
       "1617       0.00         0.13          1.23  \n",
       "1926       0.04         0.05          1.07  \n",
       "2067       0.02         0.00          1.00  \n",
       "...         ...          ...           ...  \n",
       "11403      0.00         0.01          0.08  \n",
       "11431      0.00         0.01          0.08  \n",
       "11432      0.00         0.01          0.08  \n",
       "11455      0.00         0.00          0.08  \n",
       "11492      0.00         0.00          0.08  \n",
       "\n",
       "[459 rows x 11 columns]"
      ],
      "text/html": "<div>\n<style scoped>\n    .dataframe tbody tr th:only-of-type {\n        vertical-align: middle;\n    }\n\n    .dataframe tbody tr th {\n        vertical-align: top;\n    }\n\n    .dataframe thead th {\n        text-align: right;\n    }\n</style>\n<table border=\"1\" class=\"dataframe\">\n  <thead>\n    <tr style=\"text-align: right;\">\n      <th></th>\n      <th>Rank</th>\n      <th>Name</th>\n      <th>Platform</th>\n      <th>Year</th>\n      <th>Genre</th>\n      <th>Publisher</th>\n      <th>NA_Sales</th>\n      <th>EU_Sales</th>\n      <th>JP_Sales</th>\n      <th>Other_Sales</th>\n      <th>Global_Sales</th>\n    </tr>\n  </thead>\n  <tbody>\n    <tr>\n      <th>446</th>\n      <td>447</td>\n      <td>Dragon Warrior IV</td>\n      <td>NES</td>\n      <td>1990.0</td>\n      <td>Role-Playing</td>\n      <td>Enix Corporation</td>\n      <td>0.08</td>\n      <td>0.00</td>\n      <td>3.03</td>\n      <td>0.01</td>\n      <td>3.12</td>\n    </tr>\n    <tr>\n      <th>497</th>\n      <td>498</td>\n      <td>World Soccer Winning Eleven 7 International</td>\n      <td>PS2</td>\n      <td>2003.0</td>\n      <td>Sports</td>\n      <td>Konami Digital Entertainment</td>\n      <td>0.08</td>\n      <td>1.24</td>\n      <td>1.13</td>\n      <td>0.45</td>\n      <td>2.90</td>\n    </tr>\n    <tr>\n      <th>1617</th>\n      <td>1619</td>\n      <td>Farming Simulator 2015</td>\n      <td>PC</td>\n      <td>2014.0</td>\n      <td>Simulation</td>\n      <td>Focus Home Interactive</td>\n      <td>0.08</td>\n      <td>1.02</td>\n      <td>0.00</td>\n      <td>0.13</td>\n      <td>1.23</td>\n    </tr>\n    <tr>\n      <th>1926</th>\n      <td>1928</td>\n      <td>Pro Evolution Soccer 2008</td>\n      <td>X360</td>\n      <td>2007.0</td>\n      <td>Sports</td>\n      <td>Konami Digital Entertainment</td>\n      <td>0.08</td>\n      <td>0.90</td>\n      <td>0.04</td>\n      <td>0.05</td>\n      <td>1.07</td>\n    </tr>\n    <tr>\n      <th>2067</th>\n      <td>2069</td>\n      <td>Winning Eleven: Pro Evolution Soccer 2007 (All...</td>\n      <td>X360</td>\n      <td>2006.0</td>\n      <td>Sports</td>\n      <td>Konami Digital Entertainment</td>\n      <td>0.08</td>\n      <td>0.90</td>\n      <td>0.02</td>\n      <td>0.00</td>\n      <td>1.00</td>\n    </tr>\n    <tr>\n      <th>...</th>\n      <td>...</td>\n      <td>...</td>\n      <td>...</td>\n      <td>...</td>\n      <td>...</td>\n      <td>...</td>\n      <td>...</td>\n      <td>...</td>\n      <td>...</td>\n      <td>...</td>\n      <td>...</td>\n    </tr>\n    <tr>\n      <th>11403</th>\n      <td>11405</td>\n      <td>My English Coach: Para Hispanoparlantes</td>\n      <td>DS</td>\n      <td>2009.0</td>\n      <td>Misc</td>\n      <td>Ubisoft</td>\n      <td>0.08</td>\n      <td>0.00</td>\n      <td>0.00</td>\n      <td>0.01</td>\n      <td>0.08</td>\n    </tr>\n    <tr>\n      <th>11431</th>\n      <td>11433</td>\n      <td>Little League World Series Baseball: Double Play</td>\n      <td>DS</td>\n      <td>2010.0</td>\n      <td>Sports</td>\n      <td>Activision</td>\n      <td>0.08</td>\n      <td>0.00</td>\n      <td>0.00</td>\n      <td>0.01</td>\n      <td>0.08</td>\n    </tr>\n    <tr>\n      <th>11432</th>\n      <td>11434</td>\n      <td>DanceDanceRevolution</td>\n      <td>X360</td>\n      <td>2011.0</td>\n      <td>Simulation</td>\n      <td>Konami Digital Entertainment</td>\n      <td>0.08</td>\n      <td>0.00</td>\n      <td>0.00</td>\n      <td>0.01</td>\n      <td>0.08</td>\n    </tr>\n    <tr>\n      <th>11455</th>\n      <td>11457</td>\n      <td>The Hidden</td>\n      <td>3DS</td>\n      <td>NaN</td>\n      <td>Adventure</td>\n      <td>Unknown</td>\n      <td>0.08</td>\n      <td>0.00</td>\n      <td>0.00</td>\n      <td>0.00</td>\n      <td>0.08</td>\n    </tr>\n    <tr>\n      <th>11492</th>\n      <td>11494</td>\n      <td>Ultimate Shooting Collection</td>\n      <td>Wii</td>\n      <td>2008.0</td>\n      <td>Shooter</td>\n      <td>Milestone</td>\n      <td>0.08</td>\n      <td>0.00</td>\n      <td>0.00</td>\n      <td>0.00</td>\n      <td>0.08</td>\n    </tr>\n  </tbody>\n</table>\n<p>459 rows × 11 columns</p>\n</div>"
     },
     "metadata": {},
     "execution_count": 15
    }
   ],
   "source": [
    "sameMedian=df[df['NA_Sales']==median_NourthAmerica]\n",
    "sameMedian"
   ]
  },
  {
   "cell_type": "code",
   "execution_count": 16,
   "id": "4780f85a-8fdf-45be-8c94-5197d66d9908",
   "metadata": {},
   "outputs": [
    {
     "output_type": "execute_result",
     "data": {
      "text/plain": [
       "230"
      ]
     },
     "metadata": {},
     "execution_count": 16
    }
   ],
   "source": [
    "len_samemidean=len(sameMedian)\n",
    "slice_from =round(len_samemidean/2)#230\n",
    "slice_from"
   ]
  },
  {
   "cell_type": "code",
   "execution_count": 17,
   "id": "53b516f8-2cae-4030-a940-b43c85cd9b54",
   "metadata": {},
   "outputs": [
    {
     "output_type": "execute_result",
     "data": {
      "text/plain": [
       "        Rank                                Name Platform    Year  \\\n",
       "9934    9936                    Turok: Evolution      GBA  2002.0   \n",
       "9957    9959                            Deadpool     XOne  2015.0   \n",
       "9996    9998          GT Advance 2: Rally Racing      GBA  2001.0   \n",
       "10000  10002                      A Witch's Tale       DS  2009.0   \n",
       "10012  10014                   Nickelodeon Dance     X360  2011.0   \n",
       "10020  10022            Phantasy Star Collection      GBA  2002.0   \n",
       "10022  10024               LEGO Knights' Kingdom      GBA  2004.0   \n",
       "10024  10026  Family Game Night 4: The Game Show      PS3  2011.0   \n",
       "10026  10028                        NBA Jam 2002      GBA  2002.0   \n",
       "10029  10031            Tony Hawk's Pro Skater 5     XOne  2015.0   \n",
       "\n",
       "              Genre              Publisher  NA_Sales  EU_Sales  JP_Sales  \\\n",
       "9934        Shooter  Acclaim Entertainment      0.08      0.03      0.00   \n",
       "9957         Action             Activision      0.08      0.03      0.00   \n",
       "9996         Racing                    THQ      0.08      0.03      0.00   \n",
       "10000  Role-Playing   Nippon Ichi Software      0.08      0.00      0.03   \n",
       "10012          Misc   Take-Two Interactive      0.08      0.02      0.00   \n",
       "10020  Role-Playing                  Atari      0.08      0.03      0.00   \n",
       "10022        Action                    THQ      0.08      0.03      0.00   \n",
       "10024          Misc        Electronic Arts      0.08      0.02      0.00   \n",
       "10026        Sports  Acclaim Entertainment      0.08      0.03      0.00   \n",
       "10029        Sports             Activision      0.08      0.02      0.00   \n",
       "\n",
       "       Other_Sales  Global_Sales  \n",
       "9934          0.00          0.12  \n",
       "9957          0.01          0.12  \n",
       "9996          0.00          0.11  \n",
       "10000         0.01          0.11  \n",
       "10012         0.01          0.11  \n",
       "10020         0.00          0.11  \n",
       "10022         0.00          0.11  \n",
       "10024         0.01          0.11  \n",
       "10026         0.00          0.11  \n",
       "10029         0.01          0.11  "
      ],
      "text/html": "<div>\n<style scoped>\n    .dataframe tbody tr th:only-of-type {\n        vertical-align: middle;\n    }\n\n    .dataframe tbody tr th {\n        vertical-align: top;\n    }\n\n    .dataframe thead th {\n        text-align: right;\n    }\n</style>\n<table border=\"1\" class=\"dataframe\">\n  <thead>\n    <tr style=\"text-align: right;\">\n      <th></th>\n      <th>Rank</th>\n      <th>Name</th>\n      <th>Platform</th>\n      <th>Year</th>\n      <th>Genre</th>\n      <th>Publisher</th>\n      <th>NA_Sales</th>\n      <th>EU_Sales</th>\n      <th>JP_Sales</th>\n      <th>Other_Sales</th>\n      <th>Global_Sales</th>\n    </tr>\n  </thead>\n  <tbody>\n    <tr>\n      <th>9934</th>\n      <td>9936</td>\n      <td>Turok: Evolution</td>\n      <td>GBA</td>\n      <td>2002.0</td>\n      <td>Shooter</td>\n      <td>Acclaim Entertainment</td>\n      <td>0.08</td>\n      <td>0.03</td>\n      <td>0.00</td>\n      <td>0.00</td>\n      <td>0.12</td>\n    </tr>\n    <tr>\n      <th>9957</th>\n      <td>9959</td>\n      <td>Deadpool</td>\n      <td>XOne</td>\n      <td>2015.0</td>\n      <td>Action</td>\n      <td>Activision</td>\n      <td>0.08</td>\n      <td>0.03</td>\n      <td>0.00</td>\n      <td>0.01</td>\n      <td>0.12</td>\n    </tr>\n    <tr>\n      <th>9996</th>\n      <td>9998</td>\n      <td>GT Advance 2: Rally Racing</td>\n      <td>GBA</td>\n      <td>2001.0</td>\n      <td>Racing</td>\n      <td>THQ</td>\n      <td>0.08</td>\n      <td>0.03</td>\n      <td>0.00</td>\n      <td>0.00</td>\n      <td>0.11</td>\n    </tr>\n    <tr>\n      <th>10000</th>\n      <td>10002</td>\n      <td>A Witch's Tale</td>\n      <td>DS</td>\n      <td>2009.0</td>\n      <td>Role-Playing</td>\n      <td>Nippon Ichi Software</td>\n      <td>0.08</td>\n      <td>0.00</td>\n      <td>0.03</td>\n      <td>0.01</td>\n      <td>0.11</td>\n    </tr>\n    <tr>\n      <th>10012</th>\n      <td>10014</td>\n      <td>Nickelodeon Dance</td>\n      <td>X360</td>\n      <td>2011.0</td>\n      <td>Misc</td>\n      <td>Take-Two Interactive</td>\n      <td>0.08</td>\n      <td>0.02</td>\n      <td>0.00</td>\n      <td>0.01</td>\n      <td>0.11</td>\n    </tr>\n    <tr>\n      <th>10020</th>\n      <td>10022</td>\n      <td>Phantasy Star Collection</td>\n      <td>GBA</td>\n      <td>2002.0</td>\n      <td>Role-Playing</td>\n      <td>Atari</td>\n      <td>0.08</td>\n      <td>0.03</td>\n      <td>0.00</td>\n      <td>0.00</td>\n      <td>0.11</td>\n    </tr>\n    <tr>\n      <th>10022</th>\n      <td>10024</td>\n      <td>LEGO Knights' Kingdom</td>\n      <td>GBA</td>\n      <td>2004.0</td>\n      <td>Action</td>\n      <td>THQ</td>\n      <td>0.08</td>\n      <td>0.03</td>\n      <td>0.00</td>\n      <td>0.00</td>\n      <td>0.11</td>\n    </tr>\n    <tr>\n      <th>10024</th>\n      <td>10026</td>\n      <td>Family Game Night 4: The Game Show</td>\n      <td>PS3</td>\n      <td>2011.0</td>\n      <td>Misc</td>\n      <td>Electronic Arts</td>\n      <td>0.08</td>\n      <td>0.02</td>\n      <td>0.00</td>\n      <td>0.01</td>\n      <td>0.11</td>\n    </tr>\n    <tr>\n      <th>10026</th>\n      <td>10028</td>\n      <td>NBA Jam 2002</td>\n      <td>GBA</td>\n      <td>2002.0</td>\n      <td>Sports</td>\n      <td>Acclaim Entertainment</td>\n      <td>0.08</td>\n      <td>0.03</td>\n      <td>0.00</td>\n      <td>0.00</td>\n      <td>0.11</td>\n    </tr>\n    <tr>\n      <th>10029</th>\n      <td>10031</td>\n      <td>Tony Hawk's Pro Skater 5</td>\n      <td>XOne</td>\n      <td>2015.0</td>\n      <td>Sports</td>\n      <td>Activision</td>\n      <td>0.08</td>\n      <td>0.02</td>\n      <td>0.00</td>\n      <td>0.01</td>\n      <td>0.11</td>\n    </tr>\n  </tbody>\n</table>\n</div>"
     },
     "metadata": {},
     "execution_count": 17
    }
   ],
   "source": [
    "theFinalResult=sameMedian[slice_from-5:slice_from+5]\n",
    "# theFinalResult.describe()\n",
    "theFinalResult"
   ]
  },
  {
   "cell_type": "markdown",
   "id": "cf694dd1-8979-4edc-a1f8-7a1950098333",
   "metadata": {},
   "source": [
    "### For the top-selling game of all time, how many standard deviations above/below the mean are its sales for North America?"
   ]
  },
  {
   "cell_type": "code",
   "execution_count": 18,
   "id": "e8981980-17d4-47c4-8d9c-cfca92f9aa3d",
   "metadata": {},
   "outputs": [],
   "source": [
    "# Z = (dataPoint-mean)/standerDeviation what is the dataPoint"
   ]
  },
  {
   "cell_type": "code",
   "execution_count": 19,
   "id": "ad57f702-96ca-44b9-966a-5728b8b29407",
   "metadata": {},
   "outputs": [
    {
     "output_type": "execute_result",
     "data": {
      "text/plain": [
       "50.47898767479108"
      ]
     },
     "metadata": {},
     "execution_count": 19
    }
   ],
   "source": [
    "NA_Sales=df['NA_Sales']##0.8166830292988796\n",
    "medianNA=NA_Sales.mean()# 0.08\n",
    "test=NA_Sales[0]# 41.49\n",
    "standerDeviation=(test-medianNA)/NA_Sales.std()\n",
    "standerDeviation"
   ]
  },
  {
   "cell_type": "markdown",
   "id": "7e1840b8-5b30-4984-95fa-e4fe034da46b",
   "metadata": {},
   "source": [
    "#### The Nintendo Wii seems to have outdone itself with games. How does its average number of sales compare with all of the other platforms?"
   ]
  },
  {
   "cell_type": "code",
   "execution_count": 20,
   "id": "86bd236a-0d3b-4d29-bd02-eb1b495d2c3e",
   "metadata": {},
   "outputs": [],
   "source": [
    "# the reult is (0.5374406555006628, 0.6994037735849057)\n",
    "# italy_data = df[ df['location']=='Italy' ]\n",
    "# df\n",
    "Wii_data=df[ df['Platform']=='Wii']# [italy_data['date']=='2021-06-18']\n",
    "avgSales_Wii=Wii_data['Global_Sales'].mean()# the second number"
   ]
  },
  {
   "cell_type": "code",
   "execution_count": 21,
   "id": "f41c22b9-a3bc-4168-a252-11f121295e98",
   "metadata": {},
   "outputs": [],
   "source": [
    "notWiiData=df[ df['Platform']!='Wii']\n",
    "avgSales_not_Wii=notWiiData['Global_Sales'].mean()# the second number"
   ]
  },
  {
   "cell_type": "code",
   "execution_count": 22,
   "id": "d0ae50f4-c361-4cd4-9dcb-82a83fd5c864",
   "metadata": {},
   "outputs": [
    {
     "output_type": "stream",
     "name": "stdout",
     "text": [
      "( 0.6994037735849057 , 0.6994037735849057 )\n"
     ]
    }
   ],
   "source": [
    "print('(',avgSales_Wii,',',avgSales_Wii,')')"
   ]
  },
  {
   "cell_type": "code",
   "execution_count": null,
   "id": "59a8f50e-b9e8-4d4c-b36d-8f2866aba5e4",
   "metadata": {},
   "outputs": [],
   "source": []
  }
 ],
 "metadata": {
  "kernelspec": {
   "name": "python3",
   "display_name": "Python 3.9.4 64-bit ('.venv': poetry)"
  },
  "language_info": {
   "codemirror_mode": {
    "name": "ipython",
    "version": 3
   },
   "file_extension": ".py",
   "mimetype": "text/x-python",
   "name": "python",
   "nbconvert_exporter": "python",
   "pygments_lexer": "ipython3",
   "version": "3.9.4"
  },
  "interpreter": {
   "hash": "9d17d3daf95b78147846e4bf2ab47447f6d4485d365eba131a577c8b5dcc02e7"
  }
 },
 "nbformat": 4,
 "nbformat_minor": 5
}