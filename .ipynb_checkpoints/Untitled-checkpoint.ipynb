{
 "cells": [
  {
   "cell_type": "markdown",
   "id": "60f4cf56-53a2-4889-89e1-7dd61a7788ef",
   "metadata": {},
   "source": [
    "# Data Analysis with Pandas , Part two /bike-stats , Mohammad Nada , 21/jun/2021"
   ]
  },
  {
   "cell_type": "code",
   "execution_count": 1,
   "id": "a0c6dab2-0adb-4ad5-975b-43c4c4d16ca8",
   "metadata": {},
   "outputs": [],
   "source": [
    "import pandas as pd\n",
    "import numpy as np"
   ]
  },
  {
   "cell_type": "markdown",
   "id": "3a49e4dd-6b49-491f-a44b-a333973976ab",
   "metadata": {},
   "source": [
    "### read files "
   ]
  },
  {
   "cell_type": "code",
   "execution_count": 2,
   "id": "af60972a-e638-449f-b990-44a24b9ef1ba",
   "metadata": {},
   "outputs": [
    {
     "name": "stderr",
     "output_type": "stream",
     "text": [
      "b'Skipping line 50794: expected 12 fields, saw 20\\n'\n"
     ]
    }
   ],
   "source": [
    "df_weather = pd.read_csv('./bike_stats/weather.csv')\n",
    "df_station = pd.read_csv('./bike_stats/station.csv')\n",
    "df_trip = pd.read_csv('./bike_stats/trip.csv', error_bad_lines=False)"
   ]
  },
  {
   "cell_type": "markdown",
   "id": "de813f57-efef-437f-adaf-5079097a16af",
   "metadata": {},
   "source": [
    "#### 1- What is the average trip duration for a borrowed bicycle?"
   ]
  },
  {
   "cell_type": "code",
   "execution_count": 3,
   "id": "ef2db112-ec27-425c-81e0-f71fb0155a0a",
   "metadata": {},
   "outputs": [
    {
     "data": {
      "text/plain": [
       "1178.2956753399776"
      ]
     },
     "execution_count": 3,
     "metadata": {},
     "output_type": "execute_result"
    }
   ],
   "source": [
    "avg_trip_duration=df_trip['tripduration'].mean()\n",
    "avg_trip_duration"
   ]
  },
  {
   "cell_type": "markdown",
   "id": "ff9af748-5f18-4a43-b1dc-4078cb061b5c",
   "metadata": {},
   "source": [
    "#### 2- What's the most common age of a bicycle-sharer?"
   ]
  },
  {
   "cell_type": "code",
   "execution_count": 4,
   "id": "962acc6f-af4e-4fc4-b4a3-cd08c0efc658",
   "metadata": {},
   "outputs": [
    {
     "data": {
      "text/plain": [
       "34.0"
      ]
     },
     "execution_count": 4,
     "metadata": {},
     "output_type": "execute_result"
    }
   ],
   "source": [
    "# birthyear_data=df_trip[df_trip['birthyear']!='Nan'] # except 33 286857\n",
    "# test=df_trip['birthyear']\n",
    "age_data=( 2021- df_trip['birthyear'])\n",
    "# age_data=round(age_data)\n",
    "# test=age_data.value_counts().iloc[1]\n",
    "test=age_data.value_counts().idxmax()\n",
    "test"
   ]
  },
  {
   "cell_type": "markdown",
   "id": "33199600-2af6-4a09-abdd-a8bc13d81d57",
   "metadata": {},
   "source": [
    "### 3- Given all the weather data here, find the average precipitation per month, and the median precipitation."
   ]
  },
  {
   "cell_type": "code",
   "execution_count": 5,
   "id": "2c9e9b3e-226b-4c19-8268-bf825da84e95",
   "metadata": {},
   "outputs": [],
   "source": [
    "# data_date=df_weather['Date'] # (either calculate for every month for every year or just for every month)\n",
    "# data_date # df['month'] = pd.DatetimeIndex(df['ArrivalDate']).month\n"
   ]
  },
  {
   "cell_type": "code",
   "execution_count": 6,
   "id": "58bd14de-d703-4de6-9ceb-ba73df319bf0",
   "metadata": {},
   "outputs": [
    {
     "data": {
      "text/plain": [
       "0      10/13/2014\n",
       "1      10/14/2014\n",
       "2      10/15/2014\n",
       "3      10/16/2014\n",
       "4      10/17/2014\n",
       "          ...    \n",
       "684     8/27/2016\n",
       "685     8/28/2016\n",
       "686     8/29/2016\n",
       "687     8/30/2016\n",
       "688     8/31/2016\n",
       "Name: Date, Length: 689, dtype: object"
      ]
     },
     "execution_count": 6,
     "metadata": {},
     "output_type": "execute_result"
    }
   ],
   "source": [
    "df_weather['Date']"
   ]
  },
  {
   "cell_type": "code",
   "execution_count": 7,
   "id": "fe190cf7-af34-48c5-bb4e-349daea6466e",
   "metadata": {},
   "outputs": [
    {
     "data": {
      "text/plain": [
       "1     62\n",
       "3     62\n",
       "5     62\n",
       "7     62\n",
       "8     62\n",
       "12    62\n",
       "4     60\n",
       "6     60\n",
       "11    60\n",
       "2     57\n",
       "10    50\n",
       "9     30\n",
       "Name: month, dtype: int64"
      ]
     },
     "execution_count": 7,
     "metadata": {},
     "output_type": "execute_result"
    }
   ],
   "source": [
    "df_weather['month']=pd.DatetimeIndex(df_weather['Date']).month\n",
    "monthes_data=df_weather['month'].value_counts()\n",
    "monthes_data# must checke"
   ]
  },
  {
   "cell_type": "markdown",
   "id": "577d25a3-8aaf-47bd-bb65-2dd114f14adc",
   "metadata": {},
   "source": [
    "### 4- What's the average number of bikes at a given bike station?"
   ]
  },
  {
   "cell_type": "code",
   "execution_count": 8,
   "id": "58ac22ba-37be-499d-833c-e6cc107d7454",
   "metadata": {},
   "outputs": [
    {
     "data": {
      "text/plain": [
       "16.517241379310345"
      ]
     },
     "execution_count": 8,
     "metadata": {},
     "output_type": "execute_result"
    }
   ],
   "source": [
    "# sol : 17.74074074074074\n",
    "# df_station.current_dockcount.mean()\n",
    "df_station['current_dockcount'].mean()"
   ]
  },
  {
   "cell_type": "markdown",
   "id": "b4216897-67eb-440b-8e0d-2f91cd08938d",
   "metadata": {},
   "source": [
    "### 5- When a bike station is modified, is it more likely that it’ll lose bikes or gain bikes? How do you know? ¶"
   ]
  },
  {
   "cell_type": "code",
   "execution_count": 10,
   "id": "b3ae657d-6c33-441b-99d7-f988fc416c5e",
   "metadata": {},
   "outputs": [],
   "source": [
    "# (figure it out)\n",
    "modifed_station=df_station[['modification_date','install_dockcount','current_dockcount']]\n",
    "modifed_station"
   ]
  },
  {
   "cell_type": "code",
   "execution_count": null,
   "id": "ebf1909a-282c-473e-b0ec-717d42e969ff",
   "metadata": {},
   "outputs": [],
   "source": []
  }
 ],
 "metadata": {
  "kernelspec": {
   "display_name": "Python 3",
   "language": "python",
   "name": "python3"
  },
  "language_info": {
   "codemirror_mode": {
    "name": "ipython",
    "version": 3
   },
   "file_extension": ".py",
   "mimetype": "text/x-python",
   "name": "python",
   "nbconvert_exporter": "python",
   "pygments_lexer": "ipython3",
   "version": "3.9.4"
  }
 },
 "nbformat": 4,
 "nbformat_minor": 5
}
